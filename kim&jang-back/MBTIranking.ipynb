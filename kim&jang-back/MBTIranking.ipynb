{
 "cells": [
  {
   "cell_type": "code",
   "execution_count": 1,
   "id": "6df1410f-4b26-4714-977a-6e4dc103b8ed",
   "metadata": {},
   "outputs": [],
   "source": [
    "import pandas as pd\n",
    "import numpy as np"
   ]
  },
  {
   "cell_type": "code",
   "execution_count": 2,
   "id": "a0d2b580-20cd-4977-94a2-6567dfe00c5c",
   "metadata": {},
   "outputs": [],
   "source": [
    "#입장함수 생성 : enter()\n",
    "#수학방의 최대정원은 10명이다.\n",
    "math_room = []\n",
    "\n",
    "def math_enter(id):\n",
    "    math_room.append(id)\n",
    "    \n",
    "    #최대정원...?\n",
    "    if len(math_room) > 10:\n",
    "        raise Exception('최대정원이 넘었습니다.') "
   ]
  },
  {
   "cell_type": "code",
   "execution_count": 3,
   "id": "34ec73fe-67a0-4046-9cd4-619ba19927d4",
   "metadata": {},
   "outputs": [],
   "source": [
    "#이미 수학방에 들어가있는 명단(9명)\n",
    "math_stu = ['aa','bb','cc','dd','ee','ff','gg','hh','ii']\n",
    "for i in math_stu:\n",
    "    math_enter(i)"
   ]
  },
  {
   "cell_type": "code",
   "execution_count": 4,
   "id": "3308ccc9-0f5e-48a6-a168-fa33a72b22c7",
   "metadata": {},
   "outputs": [
    {
     "name": "stdout",
     "output_type": "stream",
     "text": [
      "['aa', 'bb', 'cc', 'dd', 'ee', 'ff', 'gg', 'hh', 'ii']\n",
      "9\n"
     ]
    }
   ],
   "source": [
    "print(math_room)\n",
    "print(len(math_room))"
   ]
  },
  {
   "cell_type": "code",
   "execution_count": 5,
   "id": "b330c453-b78a-443d-993c-9e7b846bea54",
   "metadata": {},
   "outputs": [],
   "source": [
    "#10/10 입장\n",
    "math_enter('hash')"
   ]
  },
  {
   "cell_type": "code",
   "execution_count": 6,
   "id": "c6108384-7f93-460f-a27d-174e18dd468d",
   "metadata": {},
   "outputs": [
    {
     "name": "stdout",
     "output_type": "stream",
     "text": [
      "['aa', 'bb', 'cc', 'dd', 'ee', 'ff', 'gg', 'hh', 'ii', 'hash']\n",
      "10\n"
     ]
    }
   ],
   "source": [
    "print(math_room)\n",
    "print(len(math_room))"
   ]
  },
  {
   "cell_type": "code",
   "execution_count": 7,
   "id": "aa68509b-abaa-46eb-9538-e7e972e15050",
   "metadata": {},
   "outputs": [],
   "source": [
    "#11/10 입장\n",
    "math_enter('messi')"
   ]
  },
  {
   "cell_type": "code",
   "execution_count": 8,
   "id": "18b9412d-a867-464b-b897-68399785d90b",
   "metadata": {},
   "outputs": [
    {
     "name": "stdout",
     "output_type": "stream",
     "text": [
      "['aa', 'bb', 'cc', 'dd', 'ee', 'ff', 'gg', 'hh', 'ii', 'hash', 'messi']\n",
      "11\n"
     ]
    }
   ],
   "source": [
    "print(math_room)\n",
    "print(len(math_room))"
   ]
  },
  {
   "cell_type": "code",
   "execution_count": 9,
   "id": "02729b00-2317-4140-8487-e8f4d1448364",
   "metadata": {},
   "outputs": [],
   "source": [
    "#퇴장함수 생성 : exit()\n",
    "def math_exit(id):\n",
    "    math_room.remove(id)"
   ]
  },
  {
   "cell_type": "code",
   "execution_count": 10,
   "id": "ed92d189-27be-4c17-8ba2-f9d7f5299e71",
   "metadata": {},
   "outputs": [],
   "source": [
    "math_exit('hash')"
   ]
  },
  {
   "cell_type": "code",
   "execution_count": 11,
   "id": "2c20190d-8a17-44c3-8d5d-9f80b264bc4a",
   "metadata": {},
   "outputs": [
    {
     "name": "stdout",
     "output_type": "stream",
     "text": [
      "['aa', 'bb', 'cc', 'dd', 'ee', 'ff', 'gg', 'hh', 'ii', 'messi']\n",
      "10\n"
     ]
    }
   ],
   "source": [
    "print(math_room)\n",
    "print(len(math_room))"
   ]
  },
  {
   "cell_type": "code",
   "execution_count": 152,
   "id": "50345965-c095-42c8-bab1-ad640182873f",
   "metadata": {},
   "outputs": [],
   "source": [
    "#매치 희망 함수 생성\n",
    "match_list= []\n",
    "def match_enter(id):\n",
    "    match_list.append(id)"
   ]
  },
  {
   "cell_type": "code",
   "execution_count": 153,
   "id": "48f55be1-d55c-4eca-93f4-79dafeb61d4c",
   "metadata": {},
   "outputs": [],
   "source": [
    "match_enter('hh')"
   ]
  },
  {
   "cell_type": "code",
   "execution_count": 154,
   "id": "f036c61c-8598-420f-aa71-42bb0aa667c7",
   "metadata": {},
   "outputs": [
    {
     "name": "stdout",
     "output_type": "stream",
     "text": [
      "['hh']\n",
      "1\n"
     ]
    }
   ],
   "source": [
    "print(match_list)\n",
    "print(len(match_list))"
   ]
  },
  {
   "cell_type": "code",
   "execution_count": 155,
   "id": "48ef5c3d-6440-4dd8-a16c-b1880f678c11",
   "metadata": {},
   "outputs": [],
   "source": [
    "match_enter('gg')"
   ]
  },
  {
   "cell_type": "code",
   "execution_count": 156,
   "id": "c5a03648-b566-49c6-af5b-c037a025efea",
   "metadata": {},
   "outputs": [
    {
     "data": {
      "text/plain": [
       "['hh', 'gg']"
      ]
     },
     "execution_count": 156,
     "metadata": {},
     "output_type": "execute_result"
    }
   ],
   "source": [
    "match_list"
   ]
  },
  {
   "cell_type": "code",
   "execution_count": 157,
   "id": "7b5a2209-729e-4724-b1be-b28ca95b97f9",
   "metadata": {},
   "outputs": [],
   "source": [
    "#매치 성사\n",
    "matching_room = []\n",
    "\n",
    "if len(match_list) >= 2:\n",
    "    matching_room = match_list\n",
    "else:\n",
    "    matching_room.clear()"
   ]
  },
  {
   "cell_type": "code",
   "execution_count": 158,
   "id": "feab36a1-035e-43d6-8698-d7e59851c636",
   "metadata": {},
   "outputs": [
    {
     "name": "stdout",
     "output_type": "stream",
     "text": [
      "['hh', 'gg']\n"
     ]
    }
   ],
   "source": [
    "print(matching_room)"
   ]
  },
  {
   "cell_type": "code",
   "execution_count": 159,
   "id": "a589ccf4-3ab9-4086-ab34-3a6e5699aa7c",
   "metadata": {},
   "outputs": [],
   "source": [
    "#매치 퇴장함수\n",
    "match_list= []\n",
    "def match_exit(id):\n",
    "    matching_room.remove(id)"
   ]
  },
  {
   "cell_type": "code",
   "execution_count": 160,
   "id": "3794396f-ed7d-4967-be2a-efd820a71f32",
   "metadata": {},
   "outputs": [],
   "source": [
    "match_exit('hh')"
   ]
  },
  {
   "cell_type": "code",
   "execution_count": 161,
   "id": "1758cd00-f39a-48a1-81e3-a4132d88ef64",
   "metadata": {},
   "outputs": [
    {
     "name": "stdout",
     "output_type": "stream",
     "text": [
      "['gg']\n",
      "1\n"
     ]
    }
   ],
   "source": [
    "print(matching_room)\n",
    "print(len(matching_room))"
   ]
  },
  {
   "cell_type": "code",
   "execution_count": 162,
   "id": "482fcfb0-4f10-4e41-94f9-54afa0290d46",
   "metadata": {},
   "outputs": [
    {
     "data": {
      "text/plain": [
       "['gg']"
      ]
     },
     "execution_count": 162,
     "metadata": {},
     "output_type": "execute_result"
    }
   ],
   "source": [
    "matching_room"
   ]
  },
  {
   "cell_type": "code",
   "execution_count": null,
   "id": "6e8207c1-8ae0-4545-8952-16156e66e5f8",
   "metadata": {},
   "outputs": [],
   "source": []
  },
  {
   "cell_type": "code",
   "execution_count": 22,
   "id": "4d94cca8-bcfb-45cb-a4f8-84176ea6c0ee",
   "metadata": {},
   "outputs": [
    {
     "name": "stdout",
     "output_type": "stream",
     "text": [
      "Requirement already satisfied: PYMysql in c:\\users\\pc\\anaconda3\\lib\\site-packages (1.0.2)\n",
      "Note: you may need to restart the kernel to use updated packages.\n"
     ]
    }
   ],
   "source": [
    "pip install PYMysql"
   ]
  },
  {
   "cell_type": "code",
   "execution_count": 23,
   "id": "ab315761-ebd1-4ecc-bc98-11a9e253b145",
   "metadata": {},
   "outputs": [],
   "source": [
    "import pymysql"
   ]
  },
  {
   "cell_type": "code",
   "execution_count": null,
   "id": "6b22bdf6-ba2d-46e6-b9d8-18e45730f3fd",
   "metadata": {},
   "outputs": [],
   "source": []
  },
  {
   "cell_type": "code",
   "execution_count": null,
   "id": "30f3f085-89f2-4e6f-9cd3-7608f44cde59",
   "metadata": {},
   "outputs": [],
   "source": []
  },
  {
   "cell_type": "code",
   "execution_count": 18,
   "id": "e13fcbdf-ea96-42c9-8f60-e1255ae111f4",
   "metadata": {},
   "outputs": [
    {
     "name": "stdout",
     "output_type": "stream",
     "text": [
      "16\n"
     ]
    }
   ],
   "source": [
    "MBTI = ['INFP','ENFP','INFJ','ENFJ','INTJ','ENTJ','INTP','ENTP','ISFP','ESFP','ISTP','ESTP','ISFJ','ESFJ','ISTJ','ESTJ']\n",
    "mbti = ['infp','enfp','infj','enfj','intj','entj','intp','entp','isfp','esfp','istp','estp','isfj','esfj','istj','estj']\n",
    "print(len(mbti))"
   ]
  },
  {
   "cell_type": "code",
   "execution_count": 7,
   "id": "aa96ef1d-28ec-4a59-ab84-3467b7148a10",
   "metadata": {},
   "outputs": [
    {
     "name": "stdout",
     "output_type": "stream",
     "text": [
      "Requirement already satisfied: IPython in c:\\users\\pc\\anaconda3\\lib\\site-packages (7.29.0)\n",
      "Requirement already satisfied: jedi>=0.16 in c:\\users\\pc\\anaconda3\\lib\\site-packages (from IPython) (0.18.0)\n",
      "Requirement already satisfied: colorama in c:\\users\\pc\\anaconda3\\lib\\site-packages (from IPython) (0.4.4)\n",
      "Requirement already satisfied: decorator in c:\\users\\pc\\anaconda3\\lib\\site-packages (from IPython) (5.1.0)\n",
      "Requirement already satisfied: traitlets>=4.2 in c:\\users\\pc\\anaconda3\\lib\\site-packages (from IPython) (5.1.0)\n",
      "Requirement already satisfied: pygments in c:\\users\\pc\\anaconda3\\lib\\site-packages (from IPython) (2.10.0)\n",
      "Requirement already satisfied: backcall in c:\\users\\pc\\anaconda3\\lib\\site-packages (from IPython) (0.2.0)\n",
      "Requirement already satisfied: matplotlib-inline in c:\\users\\pc\\anaconda3\\lib\\site-packages (from IPython) (0.1.2)\n",
      "Requirement already satisfied: setuptools>=18.5 in c:\\users\\pc\\anaconda3\\lib\\site-packages (from IPython) (58.0.4)\n",
      "Requirement already satisfied: pickleshare in c:\\users\\pc\\anaconda3\\lib\\site-packages (from IPython) (0.7.5)\n",
      "Requirement already satisfied: prompt-toolkit!=3.0.0,!=3.0.1,<3.1.0,>=2.0.0 in c:\\users\\pc\\anaconda3\\lib\\site-packages (from IPython) (3.0.20)\n",
      "Requirement already satisfied: parso<0.9.0,>=0.8.0 in c:\\users\\pc\\anaconda3\\lib\\site-packages (from jedi>=0.16->IPython) (0.8.2)\n",
      "Requirement already satisfied: wcwidth in c:\\users\\pc\\anaconda3\\lib\\site-packages (from prompt-toolkit!=3.0.0,!=3.0.1,<3.1.0,>=2.0.0->IPython) (0.2.5)\n"
     ]
    }
   ],
   "source": [
    "!pip install IPython \n",
    "from IPython.display import Image"
   ]
  },
  {
   "cell_type": "code",
   "execution_count": 9,
   "id": "c9a8ddf5-0012-4012-81ca-714355506f10",
   "metadata": {},
   "outputs": [
    {
     "data": {
      "image/jpeg": "[encoded data removed]",
      "text/plain": [
       "<IPython.core.display.Image object>"
      ]
     },
     "execution_count": 9,
     "metadata": {},
     "output_type": "execute_result"
    }
   ],
   "source": [
    "Image('C:/Users/pc/Desktop/1.JPG')"
   ]
  },
  {
   "cell_type": "code",
   "execution_count": 59,
   "id": "29db0518-0ecc-43ac-a0f0-de9bafa8120c",
   "metadata": {},
   "outputs": [],
   "source": [
    "mbti = []"
   ]
  },
  {
   "cell_type": "code",
   "execution_count": 111,
   "id": "8e004a75-813c-47ac-94b4-82b23daad91e",
   "metadata": {},
   "outputs": [],
   "source": [
    "#초록색, 파란색 = 5\n",
    "#노란색, 연두색 = 3\n",
    "#빨간색 = 0\n",
    "\n",
    "def mbti_collab2(x):\n",
    "    if 'infp' in mbti:\n",
    "        if 'enfp' in mbti:\n",
    "            return 5\n",
    "        elif 'infj' in mbti:\n",
    "            return 5\n",
    "        elif 'enfj' in mbti:\n",
    "            return 5\n",
    "        elif 'intj' in mbti:\n",
    "            return 5\n",
    "        elif 'entj' in mbti:\n",
    "            return 5\n",
    "        elif 'intp' in mbti:\n",
    "            return 5\n",
    "        elif 'entp' in mbti:\n",
    "            return 5\n",
    "\n",
    "        elif 'isfp' in mbti:\n",
    "            return 0\n",
    "        elif 'esfp' in mbti:\n",
    "            return 0\n",
    "        elif 'istp' in mbti:\n",
    "            return 0\n",
    "        elif 'estp' in mbti:\n",
    "            return 0\n",
    "        elif 'isfj' in mbti:\n",
    "            return 0\n",
    "        elif 'esfj' in mbti:\n",
    "            return 0\n",
    "        elif 'istj' in mbti:\n",
    "            return 0\n",
    "        elif 'estj' in mbti:\n",
    "            return 0\n",
    "    elif 'enfp' in mbti:\n",
    "        if 'enfp' in mbti:\n",
    "            return 5\n",
    "        elif 'infj' in mbti:\n",
    "            return 5\n",
    "        elif 'enfj' in mbti:\n",
    "            return 5\n",
    "        elif 'intj' in mbti:\n",
    "            return 5\n",
    "        elif 'entj' in mbti:\n",
    "            return 5\n",
    "        elif 'intp' in mbti:\n",
    "            return 5\n",
    "        elif 'entp' in mbti:\n",
    "            return 5\n",
    "        \n",
    "        elif 'isfp' in mbti:\n",
    "            return 0\n",
    "        elif 'esfp' in mbti:\n",
    "            return 0\n",
    "        elif 'istp' in mbti:\n",
    "            return 0\n",
    "        elif 'estp' in mbti:\n",
    "            return 0\n",
    "        elif 'isfj' in mbti:\n",
    "            return 0\n",
    "        elif 'esfj' in mbti:\n",
    "            return 0\n",
    "        elif 'istj' in mbti:\n",
    "            return 0\n",
    "        elif 'estj' in mbti:\n",
    "            return 0\n",
    "    elif 'infj' in mbti:\n",
    "        if 'infj' in mbti:\n",
    "            return 5\n",
    "        elif 'enfj' in mbti:\n",
    "            return 5\n",
    "        elif 'intj' in mbti:\n",
    "            return 5\n",
    "        elif 'entj' in mbti:\n",
    "            return 5\n",
    "        elif 'intp' in mbti:\n",
    "            return 5\n",
    "        elif 'entp' in mbti:\n",
    "            return 5\n",
    "        \n",
    "        elif 'isfp' in mbti:\n",
    "            return 0\n",
    "        elif 'esfp' in mbti:\n",
    "            return 0\n",
    "        elif 'istp' in mbti:\n",
    "            return 0\n",
    "        elif 'estp' in mbti:\n",
    "            return 0\n",
    "        elif 'isfj' in mbti:\n",
    "            return 0\n",
    "        elif 'esfj' in mbti:\n",
    "            return 0\n",
    "        elif 'istj' in mbti:\n",
    "            return 0\n",
    "        elif 'estj' in mbti:\n",
    "            return 0\n",
    "    elif 'enfj' in mbti:\n",
    "        if 'enfj' in mbti:\n",
    "            return  5\n",
    "        elif 'intj' in mbti:\n",
    "            return 5\n",
    "        elif 'entj' in mbti:\n",
    "            return 5\n",
    "        elif 'intp' in mbti:\n",
    "            return 5\n",
    "        elif 'entp' in mbti:\n",
    "            return 5\n",
    "        elif 'isfp' in mbti:\n",
    "            return 5\n",
    "        \n",
    "        elif 'esfp' in mbti:\n",
    "            return 0\n",
    "        elif 'istp' in mbti:\n",
    "            return 0\n",
    "        elif 'estp' in mbti:\n",
    "            return 0\n",
    "        elif 'isfj' in mbti:\n",
    "            return 0\n",
    "        elif 'esfj' in mbti:\n",
    "            return 0\n",
    "        elif 'istj' in mbti:\n",
    "            return 0\n",
    "        elif 'estj' in mbti:\n",
    "            return 0 \n",
    "            \n",
    "    elif 'intj' in mbti:\n",
    "        if 'infj' in mbti:\n",
    "            return 5\n",
    "        elif 'entj' in mbti:\n",
    "            return 5\n",
    "        elif 'intp' in mbti:\n",
    "            return 5\n",
    "        elif 'entp' in mbti:\n",
    "            return 5\n",
    "        elif 'isfp' in mbti:\n",
    "            return 3\n",
    "        elif 'esfp' in mbti:\n",
    "            return 3\n",
    "        elif 'istp' in mbti:\n",
    "            return 3\n",
    "        elif 'estp' in mbti:\n",
    "            return 3\n",
    "        elif 'isfj' in mbti:\n",
    "            return 3\n",
    "        elif 'esfj' in mbti:\n",
    "            return 3\n",
    "        elif 'istj' in mbti:\n",
    "            return 3\n",
    "        elif 'estj' in mbti:\n",
    "            return 3\n",
    "        \n",
    "    elif 'entj' in mbti:\n",
    "        if 'entj' in mbti:\n",
    "            return 5\n",
    "        elif 'intp' in mbti:\n",
    "            return 5\n",
    "        elif 'entp' in mbti:\n",
    "            return 5\n",
    "        elif 'isfp' in mbti:\n",
    "            return 3\n",
    "        elif 'esfp' in mbti:\n",
    "            return 3\n",
    "        elif 'istp' in mbti:\n",
    "            return 3\n",
    "        elif 'estp' in mbti:\n",
    "            return 3\n",
    "        elif 'isfj' in mbti:\n",
    "            return 3\n",
    "        elif 'esfj' in mbti:\n",
    "            return 3\n",
    "        elif 'istj' in mbti:\n",
    "            return 3\n",
    "        elif 'estj' in mbti:\n",
    "            return 3\n",
    "    elif 'infp' in mbti:\n",
    "        if 'infp' in mbti:\n",
    "            return 5\n",
    "        elif 'entp' in mbti:\n",
    "            return 5\n",
    "        elif 'isfp' in mbti:\n",
    "            return 3\n",
    "        elif 'esfp' in mbti:\n",
    "            return 3\n",
    "        elif 'istp' in mbti:\n",
    "            return 3\n",
    "        elif 'estp' in mbti:\n",
    "            return 3\n",
    "        elif 'isfj' in mbti:\n",
    "            return 3\n",
    "        elif 'esfj' in mbti:\n",
    "            return 3\n",
    "        elif 'istj' in mbti:\n",
    "            return 3\n",
    "        elif 'estj' in mbti:\n",
    "            return 5\n",
    "    elif 'entp' in mbti:\n",
    "        if 'entp' in mbti:\n",
    "            return 5\n",
    "        elif 'isfp' in mbti:\n",
    "            return 3\n",
    "        elif 'esfp' in mbti:\n",
    "            return 3\n",
    "        elif 'istp' in mbti:\n",
    "            return 3\n",
    "        elif 'estp' in mbti:\n",
    "            return 3\n",
    "        elif 'isfj' in mbti:\n",
    "            return 3\n",
    "        elif 'esfj' in mbti:\n",
    "            return 3\n",
    "        elif 'istj' in mbti:\n",
    "            return 3\n",
    "        elif 'estj' in mbti:\n",
    "            return 3\n",
    "    elif 'isfp' in mbti:\n",
    "        if 'isfp' in mbti:\n",
    "            return 3\n",
    "        elif 'estp' in mbti:\n",
    "            return 3\n",
    "        elif 'isfj' in mbti:\n",
    "            return 3\n",
    "        elif 'esfj' in mbti:\n",
    "            return 5\n",
    "        elif 'istj' in mbti:\n",
    "            return 3\n",
    "        elif 'estj' in mbti:\n",
    "            return 5\n",
    "    elif 'esfp' in mbti:\n",
    "        if 'esfp' in mbti:\n",
    "            return 3\n",
    "        elif 'istp' in mbti:\n",
    "            return 3\n",
    "        elif 'estp' in mbti:\n",
    "            return 3\n",
    "        elif 'isfj' in mbti:\n",
    "            return 5\n",
    "        elif 'esfj' in mbti:\n",
    "            return 3\n",
    "        elif 'istj' in mbti:\n",
    "            return 5\n",
    "        elif 'estj' in mbti:\n",
    "            return 3\n",
    "    elif 'istp' in mbti:\n",
    "        if 'istp' in mbti:\n",
    "            return 3\n",
    "        elif 'estp' in mbti:\n",
    "            return 3\n",
    "        elif 'isfj' in mbti:\n",
    "            return 3\n",
    "        elif 'esfj' in mbti:\n",
    "            return 5\n",
    "        elif 'istj' in mbti:\n",
    "            return 3\n",
    "        elif 'estj' in mbti:\n",
    "            return 5\n",
    "    elif 'estp' in mbti:\n",
    "        if 'estp' in mbti:\n",
    "            return 3\n",
    "        elif 'isfj' in mbti:\n",
    "            return 5\n",
    "        elif 'esfj' in mbti:\n",
    "            return 3\n",
    "        elif 'istj' in mbti:\n",
    "            return 5\n",
    "        elif 'estj' in mbti:\n",
    "            return 3\n",
    "    else:\n",
    "        return 5"
   ]
  },
  {
   "cell_type": "code",
   "execution_count": 114,
   "id": "9358e1c0-2456-406a-8045-27ffe6b1860b",
   "metadata": {},
   "outputs": [],
   "source": [
    "mbti = ['isfp','isfp']"
   ]
  },
  {
   "cell_type": "code",
   "execution_count": 115,
   "id": "065bfa91-dc8a-442b-ba73-a70379d7466d",
   "metadata": {},
   "outputs": [
    {
     "data": {
      "text/plain": [
       "3"
      ]
     },
     "execution_count": 115,
     "metadata": {},
     "output_type": "execute_result"
    }
   ],
   "source": [
    "mbti_collab2(mbti)"
   ]
  },
  {
   "cell_type": "code",
   "execution_count": 160,
   "id": "b2f85dcf-37df-4eeb-860a-af968233b874",
   "metadata": {},
   "outputs": [
    {
     "data": {
      "text/html": [
       "<div>\n",
       "<style scoped>\n",
       "    .dataframe tbody tr th:only-of-type {\n",
       "        vertical-align: middle;\n",
       "    }\n",
       "\n",
       "    .dataframe tbody tr th {\n",
       "        vertical-align: top;\n",
       "    }\n",
       "\n",
       "    .dataframe thead th {\n",
       "        text-align: right;\n",
       "    }\n",
       "</style>\n",
       "<table border=\"1\" class=\"dataframe\">\n",
       "  <thead>\n",
       "    <tr style=\"text-align: right;\">\n",
       "      <th></th>\n",
       "      <th>이름</th>\n",
       "      <th>mbti</th>\n",
       "      <th>관심사1</th>\n",
       "      <th>관심사2</th>\n",
       "      <th>관심사3</th>\n",
       "    </tr>\n",
       "  </thead>\n",
       "  <tbody>\n",
       "    <tr>\n",
       "      <th>0</th>\n",
       "      <td>메시</td>\n",
       "      <td>intj</td>\n",
       "      <td>축구</td>\n",
       "      <td>주식</td>\n",
       "      <td>요리</td>\n",
       "    </tr>\n",
       "    <tr>\n",
       "      <th>1</th>\n",
       "      <td>호날두</td>\n",
       "      <td>estj</td>\n",
       "      <td>주식</td>\n",
       "      <td>패션</td>\n",
       "      <td>정치</td>\n",
       "    </tr>\n",
       "    <tr>\n",
       "      <th>2</th>\n",
       "      <td>손흥민</td>\n",
       "      <td>infp</td>\n",
       "      <td>요리</td>\n",
       "      <td>정치</td>\n",
       "      <td>건강</td>\n",
       "    </tr>\n",
       "    <tr>\n",
       "      <th>3</th>\n",
       "      <td>케인</td>\n",
       "      <td>entj</td>\n",
       "      <td>경제</td>\n",
       "      <td>환경</td>\n",
       "      <td>육아</td>\n",
       "    </tr>\n",
       "  </tbody>\n",
       "</table>\n",
       "</div>"
      ],
      "text/plain": [
       "    이름  mbti 관심사1 관심사2 관심사3\n",
       "0   메시  intj   축구   주식   요리\n",
       "1  호날두  estj   주식   패션   정치\n",
       "2  손흥민  infp   요리   정치   건강\n",
       "3   케인  entj   경제   환경   육아"
      ]
     },
     "execution_count": 160,
     "metadata": {},
     "output_type": "execute_result"
    }
   ],
   "source": [
    "from pandas import Series, DataFrame\n",
    "\n",
    "raw_data = {'이름': ['메시', '호날두', '손흥민', '케인'],\n",
    "            'mbti':['intj','estj','infp','entj'],\n",
    "            '관심사1': ['축구', '주식', '요리', '경제'],\n",
    "            '관심사2': ['주식', '패션', '정치', '환경'],\n",
    "           '관심사3': ['요리','정치','건강','육아']}\n",
    "\n",
    "df = DataFrame(raw_data)\n",
    "df"
   ]
  },
  {
   "cell_type": "code",
   "execution_count": null,
   "id": "fbacb6b3-e166-4bfc-bad6-1de5b1dc4abd",
   "metadata": {},
   "outputs": [],
   "source": []
  },
  {
   "cell_type": "code",
   "execution_count": null,
   "id": "b4e9a9ef-4963-48f4-844f-88695eb5cd56",
   "metadata": {},
   "outputs": [],
   "source": []
  },
  {
   "cell_type": "code",
   "execution_count": null,
   "id": "1dfca18f-6614-4f63-90ce-c83969c0cff4",
   "metadata": {},
   "outputs": [],
   "source": []
  },
  {
   "cell_type": "code",
   "execution_count": null,
   "id": "8a4f24cb-6e64-44f7-af3a-40f6bd0b7c58",
   "metadata": {},
   "outputs": [],
   "source": []
  },
  {
   "cell_type": "code",
   "execution_count": null,
   "id": "50535f4c-e120-4e85-8f75-6381545a0898",
   "metadata": {},
   "outputs": [],
   "source": []
  },
  {
   "cell_type": "code",
   "execution_count": 121,
   "id": "2b0505c6-6ca7-4e13-ad69-23e0daf89b57",
   "metadata": {},
   "outputs": [
    {
     "data": {
      "text/html": [
       "<div>\n",
       "<style scoped>\n",
       "    .dataframe tbody tr th:only-of-type {\n",
       "        vertical-align: middle;\n",
       "    }\n",
       "\n",
       "    .dataframe tbody tr th {\n",
       "        vertical-align: top;\n",
       "    }\n",
       "\n",
       "    .dataframe thead th {\n",
       "        text-align: right;\n",
       "    }\n",
       "</style>\n",
       "<table border=\"1\" class=\"dataframe\">\n",
       "  <thead>\n",
       "    <tr style=\"text-align: right;\">\n",
       "      <th></th>\n",
       "      <th>이름</th>\n",
       "      <th>관심사1</th>\n",
       "      <th>관심사2</th>\n",
       "      <th>관심사3</th>\n",
       "    </tr>\n",
       "  </thead>\n",
       "  <tbody>\n",
       "    <tr>\n",
       "      <th>0</th>\n",
       "      <td>메시</td>\n",
       "      <td>축구</td>\n",
       "      <td>주식</td>\n",
       "      <td>요리</td>\n",
       "    </tr>\n",
       "    <tr>\n",
       "      <th>1</th>\n",
       "      <td>호날두</td>\n",
       "      <td>주식</td>\n",
       "      <td>패션</td>\n",
       "      <td>정치</td>\n",
       "    </tr>\n",
       "  </tbody>\n",
       "</table>\n",
       "</div>"
      ],
      "text/plain": [
       "    이름 관심사1 관심사2 관심사3\n",
       "0   메시   축구   주식   요리\n",
       "1  호날두   주식   패션   정치"
      ]
     },
     "execution_count": 121,
     "metadata": {},
     "output_type": "execute_result"
    }
   ],
   "source": [
    "df[:2]"
   ]
  },
  {
   "cell_type": "code",
   "execution_count": 158,
   "id": "d976d555-7322-46a3-b907-491f14181aa2",
   "metadata": {},
   "outputs": [
    {
     "data": {
      "text/html": [
       "<div>\n",
       "<style scoped>\n",
       "    .dataframe tbody tr th:only-of-type {\n",
       "        vertical-align: middle;\n",
       "    }\n",
       "\n",
       "    .dataframe tbody tr th {\n",
       "        vertical-align: top;\n",
       "    }\n",
       "\n",
       "    .dataframe thead th {\n",
       "        text-align: right;\n",
       "    }\n",
       "</style>\n",
       "<table border=\"1\" class=\"dataframe\">\n",
       "  <thead>\n",
       "    <tr style=\"text-align: right;\">\n",
       "      <th></th>\n",
       "      <th>이름</th>\n",
       "      <th>관심사</th>\n",
       "      <th>관심사1</th>\n",
       "      <th>관심사2</th>\n",
       "      <th>관심사3</th>\n",
       "    </tr>\n",
       "  </thead>\n",
       "  <tbody>\n",
       "    <tr>\n",
       "      <th>0</th>\n",
       "      <td>메시</td>\n",
       "      <td>축구, 주식, 요리</td>\n",
       "      <td>축구</td>\n",
       "      <td>주식</td>\n",
       "      <td>요리</td>\n",
       "    </tr>\n",
       "    <tr>\n",
       "      <th>1</th>\n",
       "      <td>호날두</td>\n",
       "      <td>주식, 패션, 정치</td>\n",
       "      <td>주식</td>\n",
       "      <td>패션</td>\n",
       "      <td>정치</td>\n",
       "    </tr>\n",
       "    <tr>\n",
       "      <th>2</th>\n",
       "      <td>손흥민</td>\n",
       "      <td>요리, 정치, 건강</td>\n",
       "      <td>요리</td>\n",
       "      <td>정치</td>\n",
       "      <td>건강</td>\n",
       "    </tr>\n",
       "    <tr>\n",
       "      <th>3</th>\n",
       "      <td>케인</td>\n",
       "      <td>경제, 환경, 육아</td>\n",
       "      <td>경제</td>\n",
       "      <td>환경</td>\n",
       "      <td>육아</td>\n",
       "    </tr>\n",
       "  </tbody>\n",
       "</table>\n",
       "</div>"
      ],
      "text/plain": [
       "    이름         관심사 관심사1 관심사2 관심사3\n",
       "0   메시  축구, 주식, 요리   축구   주식   요리\n",
       "1  호날두  주식, 패션, 정치   주식   패션   정치\n",
       "2  손흥민  요리, 정치, 건강   요리   정치   건강\n",
       "3   케인  경제, 환경, 육아   경제   환경   육아"
      ]
     },
     "execution_count": 158,
     "metadata": {},
     "output_type": "execute_result"
    }
   ],
   "source": [
    "raw_data2 = {'이름': ['메시', '호날두', '손흥민', '케인'],\n",
    "            '관심사': ['축구, 주식, 요리', '주식, 패션, 정치', '요리, 정치, 건강', '경제, 환경, 육아'],\n",
    "            '관심사1': ['축구', '주식', '요리', '경제'],\n",
    "            '관심사2': ['주식', '패션', '정치', '환경'],\n",
    "           '관심사3': ['요리','정치','건강','육아']}\n",
    "\n",
    "df2 = DataFrame(raw_data2)\n",
    "df2"
   ]
  },
  {
   "cell_type": "code",
   "execution_count": 156,
   "id": "f1a7d597-e1c9-412e-95ec-b72d6262dea4",
   "metadata": {},
   "outputs": [
    {
     "data": {
      "text/html": [
       "<div>\n",
       "<style scoped>\n",
       "    .dataframe tbody tr th:only-of-type {\n",
       "        vertical-align: middle;\n",
       "    }\n",
       "\n",
       "    .dataframe tbody tr th {\n",
       "        vertical-align: top;\n",
       "    }\n",
       "\n",
       "    .dataframe thead th {\n",
       "        text-align: right;\n",
       "    }\n",
       "</style>\n",
       "<table border=\"1\" class=\"dataframe\">\n",
       "  <thead>\n",
       "    <tr style=\"text-align: right;\">\n",
       "      <th></th>\n",
       "      <th>이름</th>\n",
       "      <th>관심사1</th>\n",
       "      <th>관심사2</th>\n",
       "      <th>관심사3</th>\n",
       "    </tr>\n",
       "  </thead>\n",
       "  <tbody>\n",
       "    <tr>\n",
       "      <th>0</th>\n",
       "      <td>메시</td>\n",
       "      <td>축구</td>\n",
       "      <td>주식</td>\n",
       "      <td>요리</td>\n",
       "    </tr>\n",
       "    <tr>\n",
       "      <th>1</th>\n",
       "      <td>호날두</td>\n",
       "      <td>주식</td>\n",
       "      <td>패션</td>\n",
       "      <td>정치</td>\n",
       "    </tr>\n",
       "    <tr>\n",
       "      <th>2</th>\n",
       "      <td>손흥민</td>\n",
       "      <td>요리</td>\n",
       "      <td>정치</td>\n",
       "      <td>건강</td>\n",
       "    </tr>\n",
       "    <tr>\n",
       "      <th>3</th>\n",
       "      <td>케인</td>\n",
       "      <td>경제</td>\n",
       "      <td>환경</td>\n",
       "      <td>육아</td>\n",
       "    </tr>\n",
       "  </tbody>\n",
       "</table>\n",
       "</div>"
      ],
      "text/plain": [
       "    이름 관심사1 관심사2 관심사3\n",
       "0   메시   축구   주식   요리\n",
       "1  호날두   주식   패션   정치\n",
       "2  손흥민   요리   정치   건강\n",
       "3   케인   경제   환경   육아"
      ]
     },
     "execution_count": 156,
     "metadata": {},
     "output_type": "execute_result"
    }
   ],
   "source": [
    "raw_data3 = {'이름': ['메시', '호날두', '손흥민', '케인'],\n",
    "            '관심사1': ['축구', '주식', '요리', '경제'],\n",
    "            '관심사2': ['주식', '패션', '정치', '환경'],\n",
    "           '관심사3': ['요리','정치','건강','육아'],}\n",
    "            #'관심사' : ['축구','주식','요리','주식','패션','요리','요리','정치','건강','경제','환경','육아']}\n",
    "\n",
    "\n",
    "df3 = DataFrame(raw_data3)\n",
    "df3"
   ]
  },
  {
   "cell_type": "code",
   "execution_count": 159,
   "id": "c558584e-12d1-4223-b344-3ff04ca77b4c",
   "metadata": {},
   "outputs": [
    {
     "name": "stdout",
     "output_type": "stream",
     "text": [
      "[['메시', '축구', '주식', '요리'], ['호날두', '주식', '패션', '정치'], ['손흥민', '요리', '정치', '건강'], ['케인', '경제', '환경', '육아']]\n"
     ]
    }
   ],
   "source": [
    "val_list = df.values.tolist()\n",
    "print(val_list)"
   ]
  },
  {
   "cell_type": "code",
   "execution_count": null,
   "id": "fb5303e9-4c9b-4bbe-85b3-611ff1936186",
   "metadata": {},
   "outputs": [],
   "source": []
  }
 ],
 "metadata": {
  "kernelspec": {
   "display_name": "Python 3 (ipykernel)",
   "language": "python",
   "name": "python3"
  },
  "language_info": {
   "codemirror_mode": {
    "name": "ipython",
    "version": 3
   },
   "file_extension": ".py",
   "mimetype": "text/x-python",
   "name": "python",
   "nbconvert_exporter": "python",
   "pygments_lexer": "ipython3",
   "version": "3.9.7"
  },
  "widgets": {
   "application/vnd.jupyter.widget-state+json": {
    "state": {},
    "version_major": 2,
    "version_minor": 0
   }
  }
 },
 "nbformat": 4,
 "nbformat_minor": 5
}
